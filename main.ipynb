{
 "cells": [
  {
   "cell_type": "code",
   "execution_count": null,
   "metadata": {},
   "outputs": [
    {
     "name": "stdout",
     "output_type": "stream",
     "text": [
      "Accuracy is  0.375\n",
      "Please select an option (A/E/I/M/P):-\n",
      "I: Model Inversion\n",
      "M: Membership Inference\n",
      "P: Property Inference\n",
      "A: All\n",
      "E: Exit\n",
      "m\n",
      "Please enter the path for the dataset:\n",
      "C:\\study\\PET\\Project\\test_dataset_1\n",
      "Please enter 1 for CIFAR-10 or 2 for MNIST:\n",
      "2\n",
      "Please enter the path for the target model:\n",
      "./target_model_MNIST.pt\n",
      "Accuracy is  0.375\n",
      "Membership Inference performance is: \n",
      "\n",
      "\n"
     ]
    }
   ],
   "source": [
    "from models import membership_inference\n",
    "\n",
    "while(1):\n",
    "    options = \"Please select an option (A/E/I/M/P):-\\n\" + \\\n",
    "              \"I: Model Inversion\\nM: Membership Inference\\nP: Property Inference\\nA: All\\nE: Exit\\n\"\n",
    "    valid_options = [\"A\", \"E\", \"I\", \"M\", \"P\"]\n",
    "    try:\n",
    "        attack = input(options)[0]\n",
    "    except:\n",
    "        continue\n",
    "    if(attack.upper() not in valid_options):\n",
    "        print(\"Please select a valid option! (A/E/I/M/P)\\n\")\n",
    "    elif(attack.upper() == \"E\"):\n",
    "        print(\"Thanks for using MPC! (Model Privacy Checker)\")\n",
    "        break    \n",
    "    else:\n",
    "        dataset = input(\"Please enter the path for the dataset:\\n\")\n",
    "        dataset_type = input(\"Please enter 1 for CIFAR-10 or 2 for MNIST:\\n\")\n",
    "        target_model = input(\"Please enter the path for the target model:\\n\")\n",
    "    if(attack.upper() == \"M\"):\n",
    "        performance = membership_inference(dataset_type, dataset,target_model)\n",
    "        #Execute Membership Inference\n",
    "        print(\"Membership Inference performance is: \\n\\n\")\n",
    "    if(attack.upper() == \"P\"):\n",
    "        #Execute Property Inference\n",
    "        print(\"Property Inference performance is: \\n\\n\")\n",
    "    if(attack.upper() == \"A\"):\n",
    "        #Execute 3 Attacks\n",
    "        print(\"Model Inversion performance is:\")\n",
    "        print(\"Membership Inference performance is:\")\n",
    "        print(\"Property Inference performance is: \\n\")\n",
    "    if(attack.upper() == \"I\"):\n",
    "        #Execute Model Inversion\n",
    "        print(\"Model Inversion performance is: \\n\\n\")\n"
   ]
  },
  {
   "cell_type": "code",
   "execution_count": null,
   "metadata": {},
   "outputs": [],
   "source": [
    "# The paths i tested on\n",
    "./target_model_MNIST.pt\n",
    "C:\\study\\PET\\Project\\test_dataset_1"
   ]
  }
 ],
 "metadata": {
  "kernelspec": {
   "display_name": "Python 3",
   "language": "python",
   "name": "python3"
  },
  "language_info": {
   "codemirror_mode": {
    "name": "ipython",
    "version": 3
   },
   "file_extension": ".py",
   "mimetype": "text/x-python",
   "name": "python",
   "nbconvert_exporter": "python",
   "pygments_lexer": "ipython3",
   "version": "3.8.3"
  }
 },
 "nbformat": 4,
 "nbformat_minor": 4
}
