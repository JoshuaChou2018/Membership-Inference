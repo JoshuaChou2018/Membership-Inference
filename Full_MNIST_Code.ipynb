{
 "cells": [
  {
   "cell_type": "code",
   "execution_count": 17,
   "metadata": {},
   "outputs": [],
   "source": [
    "import numpy as np\n",
    "import torch\n",
    "import torchvision\n",
    "import torchvision.transforms as transforms\n",
    "import torch.nn as nn\n",
    "import torch.nn.functional as F\n",
    "import matplotlib.pyplot as plt\n",
    "from sklearn.metrics import recall_score\n",
    "from sklearn.metrics import precision_score\n",
    "from sklearn.metrics import classification_report"
   ]
  },
  {
   "cell_type": "code",
   "execution_count": 2,
   "metadata": {},
   "outputs": [],
   "source": [
    "#HYPERPARAMETERS\n",
    "BATCH_SIZE = 4\n",
    "EPOCHS = 13\n",
    "STEP_SIZE = 0.0009\n",
    "MOMENTUM = 0.9"
   ]
  },
  {
   "cell_type": "code",
   "execution_count": 3,
   "metadata": {},
   "outputs": [
    {
     "name": "stdout",
     "output_type": "stream",
     "text": [
      "Downloading http://yann.lecun.com/exdb/mnist/train-images-idx3-ubyte.gz to ./data\\MNIST\\raw\\train-images-idx3-ubyte.gz\n"
     ]
    },
    {
     "data": {
      "application/vnd.jupyter.widget-view+json": {
       "model_id": "683f40e77216406cbdf3f5bc22bb0016",
       "version_major": 2,
       "version_minor": 0
      },
      "text/plain": [
       "HBox(children=(FloatProgress(value=1.0, bar_style='info', max=1.0), HTML(value='')))"
      ]
     },
     "metadata": {},
     "output_type": "display_data"
    },
    {
     "name": "stdout",
     "output_type": "stream",
     "text": [
      "Extracting ./data\\MNIST\\raw\\train-images-idx3-ubyte.gz to ./data\\MNIST\\raw\n",
      "Downloading http://yann.lecun.com/exdb/mnist/train-labels-idx1-ubyte.gz to ./data\\MNIST\\raw\\train-labels-idx1-ubyte.gz\n"
     ]
    },
    {
     "data": {
      "application/vnd.jupyter.widget-view+json": {
       "model_id": "25d0b30902db41cd94bcf41d5ef14f18",
       "version_major": 2,
       "version_minor": 0
      },
      "text/plain": [
       "HBox(children=(FloatProgress(value=1.0, bar_style='info', max=1.0), HTML(value='')))"
      ]
     },
     "metadata": {},
     "output_type": "display_data"
    },
    {
     "name": "stdout",
     "output_type": "stream",
     "text": [
      "Extracting ./data\\MNIST\\raw\\train-labels-idx1-ubyte.gz to ./data\\MNIST\\raw\n",
      "Downloading http://yann.lecun.com/exdb/mnist/t10k-images-idx3-ubyte.gz to ./data\\MNIST\\raw\\t10k-images-idx3-ubyte.gz\n",
      "\n"
     ]
    },
    {
     "data": {
      "application/vnd.jupyter.widget-view+json": {
       "model_id": "11c80a4c67f944f68c13035ea77b10e6",
       "version_major": 2,
       "version_minor": 0
      },
      "text/plain": [
       "HBox(children=(FloatProgress(value=1.0, bar_style='info', max=1.0), HTML(value='')))"
      ]
     },
     "metadata": {},
     "output_type": "display_data"
    },
    {
     "name": "stdout",
     "output_type": "stream",
     "text": [
      "Extracting ./data\\MNIST\\raw\\t10k-images-idx3-ubyte.gz to ./data\\MNIST\\raw\n",
      "Downloading http://yann.lecun.com/exdb/mnist/t10k-labels-idx1-ubyte.gz to ./data\\MNIST\\raw\\t10k-labels-idx1-ubyte.gz\n"
     ]
    },
    {
     "data": {
      "application/vnd.jupyter.widget-view+json": {
       "model_id": "a8505791f42742448246dae0690b908b",
       "version_major": 2,
       "version_minor": 0
      },
      "text/plain": [
       "HBox(children=(FloatProgress(value=1.0, bar_style='info', max=1.0), HTML(value='')))"
      ]
     },
     "metadata": {},
     "output_type": "display_data"
    },
    {
     "name": "stdout",
     "output_type": "stream",
     "text": [
      "Extracting ./data\\MNIST\\raw\\t10k-labels-idx1-ubyte.gz to ./data\\MNIST\\raw\n",
      "Processing...\n",
      "Done!\n"
     ]
    },
    {
     "name": "stderr",
     "output_type": "stream",
     "text": [
      "C:\\Users\\R\\anaconda3\\lib\\site-packages\\torchvision\\datasets\\mnist.py:480: UserWarning: The given NumPy array is not writeable, and PyTorch does not support non-writeable tensors. This means you can write to the underlying (supposedly non-writeable) NumPy array using the tensor. You may want to copy the array to protect its data or make it writeable before converting it to a tensor. This type of warning will be suppressed for the rest of this program. (Triggered internally at  ..\\torch\\csrc\\utils\\tensor_numpy.cpp:141.)\n",
      "  return torch.from_numpy(parsed.astype(m[2], copy=False)).view(*s)\n"
     ]
    }
   ],
   "source": [
    "transform = transforms.Compose([transforms.ToTensor(),transforms.Normalize((0.5), (0.5))])\n",
    "\n",
    "trainset = torchvision.datasets.MNIST(root='./data', train=True,\n",
    "                                        download=True, transform=transform)\n",
    "\n",
    "testset = torchvision.datasets.MNIST(root='./data', train=False,\n",
    "                                       download=True, transform=transform)\n",
    "\n",
    "trainloader = torch.utils.data.DataLoader(trainset, batch_size=BATCH_SIZE,\n",
    "                                          shuffle=False, num_workers=2)\n",
    "testloader = torch.utils.data.DataLoader(testset, batch_size=BATCH_SIZE,\n",
    "                                         shuffle=False, num_workers=2)"
   ]
  },
  {
   "cell_type": "code",
   "execution_count": 9,
   "metadata": {},
   "outputs": [],
   "source": [
    "#CNN FOR SHADOW AND TARGET MODELS OF MNIST\n",
    "class Net(nn.Module):\n",
    "    def __init__(self):\n",
    "        super(Net, self).__init__()\n",
    "        \n",
    "        self.conv1 = nn.Conv2d(1, 16, 3, padding = 1)\n",
    "        self.pool1 = nn.MaxPool2d(2, 2)\n",
    "        self.batchnorm1 = nn.BatchNorm2d(16)\n",
    "        \n",
    "        self.conv2 = nn.Conv2d(16, 32, 3, padding = 1)\n",
    "        self.pool2 = nn.MaxPool2d(2, 2)\n",
    "        self.batchnorm2 = nn.BatchNorm2d(32)\n",
    "        \n",
    "        self.conv3 = nn.Conv2d(32, 64, 3, padding = 1)\n",
    "        self.pool3 = nn.MaxPool2d(2, 2)\n",
    "        self.batchnorm3 = nn.BatchNorm2d(64)\n",
    "        \n",
    "       \n",
    "        self.fc1 = nn.Linear(576, 576)\n",
    "        self.fc2 =  nn.Linear(576, 10)\n",
    "        \n",
    "        \n",
    "    def forward(self, x):\n",
    "        x = F.relu(self.conv1(x))\n",
    "        x = self.pool1(x)\n",
    "        x = self.batchnorm1(x)\n",
    "        \n",
    "        x = F.relu(self.conv2(x))\n",
    "        x = self.pool2(x)\n",
    "        x = self.batchnorm2(x)\n",
    "        \n",
    "        x = F.relu(self.conv3(x))\n",
    "        x = self.pool3(x)\n",
    "        x = self.batchnorm3(x)\n",
    "        \n",
    "        x = x.view(-1, 576)\n",
    "        x = F.relu(self.fc1(x))\n",
    "        out = F.softmax(self.fc2(x), dim = 1)\n",
    "        return out"
   ]
  },
  {
   "cell_type": "code",
   "execution_count": 10,
   "metadata": {},
   "outputs": [],
   "source": [
    "#FULLY CONNECTED MODEL FOR THE ATTACKER\n",
    "\n",
    "class Net_Attack(nn.Module):\n",
    "    def __init__(self):\n",
    "        super(Net_Attack, self).__init__()\n",
    "        \n",
    "        self.fc1 = nn.Linear(10, 256)\n",
    "        self.batchnorm1 = nn.BatchNorm1d(256)\n",
    "        self.fc2 = nn.Linear(256, 1024)\n",
    "        self.batchnorm2 = nn.BatchNorm1d(1024)\n",
    "        self.fc3 = nn.Linear(1024, 128)\n",
    "        self.batchnorm3 = nn.BatchNorm1d(128)\n",
    "        self.fc4 = nn.Linear(128, 2)\n",
    "        \n",
    "        \n",
    "    def forward(self, x):\n",
    "\n",
    "        x = F.relu(self.fc1(x))\n",
    "        x =  self.batchnorm1(x)\n",
    "        x = F.relu(self.fc2(x))\n",
    "        x =  self.batchnorm2(x)\n",
    "        x = F.relu(self.fc3(x))\n",
    "        x =  self.batchnorm3(x)\n",
    "        out = F.softmax(self.fc4(x), dim = 1)\n",
    "        return out"
   ]
  },
  {
   "cell_type": "code",
   "execution_count": 11,
   "metadata": {},
   "outputs": [],
   "source": [
    "shadow = Net()\n",
    "target = Net()\n",
    "attack = Net_Attack()"
   ]
  },
  {
   "cell_type": "code",
   "execution_count": 12,
   "metadata": {},
   "outputs": [],
   "source": [
    "criterion = nn.CrossEntropyLoss()\n",
    "optimizer1 = torch.optim.SGD(shadow.parameters(), lr=STEP_SIZE, momentum = 0.9)\n",
    "optimizer2 = torch.optim.SGD(target.parameters(), lr=STEP_SIZE, momentum = 0.9)\n",
    "optimizer3 = torch.optim.SGD(attack.parameters(), lr=0.0002, momentum = 0.9)"
   ]
  },
  {
   "cell_type": "code",
   "execution_count": 13,
   "metadata": {},
   "outputs": [
    {
     "name": "stdout",
     "output_type": "stream",
     "text": [
      "0\n",
      "1 1.5967107198437056\n",
      "1 2.3416233416001\n",
      "1\n",
      "2 1.4867556506991386\n",
      "2 2.221504112581412\n",
      "2\n",
      "3 1.477010103146235\n",
      "3 2.2107841359376907\n",
      "3\n",
      "4 1.472312023361524\n",
      "4 2.2060207805832226\n",
      "4\n",
      "5 1.4691991389989854\n",
      "5 2.2027738602161406\n",
      "5\n",
      "6 1.4674803257981937\n",
      "6 2.20065391822656\n",
      "6\n",
      "7 1.4663025115331014\n",
      "7 2.199029579122861\n",
      "7\n",
      "8 1.4652576810717584\n",
      "8 2.197882402201494\n",
      "8\n",
      "9 1.4645487556656203\n",
      "9 2.1970490437746046\n",
      "9\n",
      "10 1.4641010349194208\n",
      "10 2.19655060950915\n",
      "10\n",
      "11 1.4639023965199789\n",
      "11 2.1961051953434945\n",
      "11\n",
      "12 1.4636611521840095\n",
      "12 2.195785739958286\n",
      "12\n",
      "13 1.4635398460626603\n",
      "13 2.1955464402635894\n"
     ]
    }
   ],
   "source": [
    "#TRAINING SHADOW & TARGET MODELS\n",
    "for epoch in range(EPOCHS): \n",
    "    print (epoch)\n",
    "    epoch_loss = 0\n",
    "    for i, data in enumerate(trainloader, 0):\n",
    "        images, labels = data\n",
    "        \n",
    "\n",
    "        #TRAIN SHADOW MODEL\n",
    "        if i < 6000:\n",
    "            optimizer1.zero_grad()\n",
    "            outputs = shadow(images)\n",
    "            loss1 = criterion(outputs, labels)\n",
    "            loss1.backward()\n",
    "            optimizer1.step()\n",
    "            \n",
    "            epoch_loss += outputs.shape[0] * loss1.item()\n",
    "\n",
    "        # print epoch loss\n",
    "        \n",
    "        if i == 6000:\n",
    "            \n",
    "            print(epoch+1, epoch_loss / 24000)\n",
    "            \n",
    "            if epoch == 0:\n",
    "                loss_per_epoch_shadow = np.array(epoch_loss) / 24000\n",
    "                epoch_loss = 0\n",
    "            else:\n",
    "                loss_per_epoch_shadow = np.append(loss_per_epoch_shadow, np.array(epoch_loss) / 24000)\n",
    "                epoch_loss = 0\n",
    "            \n",
    "            \n",
    "                     \n",
    "        #TRAIN TARGET MODEL\n",
    "        if i > 6000:     \n",
    "            optimizer2.zero_grad()\n",
    "            outputs = target(images)\n",
    "            loss2 = criterion(outputs, labels)\n",
    "            loss2.backward()\n",
    "            optimizer2.step()\n",
    "            \n",
    "            \n",
    "                            # print statistics\n",
    "            epoch_loss += outputs.shape[0] * loss2.item()\n",
    "\n",
    "    # print epoch loss\n",
    "    print(epoch+1, epoch_loss / 24000)\n",
    "    if epoch == 0:\n",
    "        loss_per_epoch_target = np.array(epoch_loss) / 24000\n",
    "    else:\n",
    "        loss_per_epoch_target = np.append(loss_per_epoch_target, np.array(epoch_loss) / 24000)\n",
    "\n",
    "            \n",
    "            \n",
    "#save both models\n",
    "torch.save(shadow.state_dict(), \"shadow_model_MNIST.pt\")\n",
    "torch.save(target.state_dict(), \"target_model_MNIST.pt\")"
   ]
  },
  {
   "cell_type": "code",
   "execution_count": 14,
   "metadata": {},
   "outputs": [
    {
     "data": {
      "image/png": "[encoded data removed]",
      "text/plain": [
       "<Figure size 432x288 with 1 Axes>"
      ]
     },
     "metadata": {
      "needs_background": "light"
     },
     "output_type": "display_data"
    },
    {
     "data": {
      "image/png": "[encoded data removed]",
      "text/plain": [
       "<Figure size 432x288 with 1 Axes>"
      ]
     },
     "metadata": {
      "needs_background": "light"
     },
     "output_type": "display_data"
    }
   ],
   "source": [
    "x = np.arange(EPOCHS)\n",
    "plt.plot(x, loss_per_epoch_shadow)\n",
    "plt.xlabel(\"Epoch\")\n",
    "plt.ylabel(\"Loss\")\n",
    "plt.title(\"Shadow model loss per Epoch\")\n",
    "plt.show()\n",
    "\n",
    "plt.plot(x, loss_per_epoch_target)\n",
    "plt.xlabel(\"Epoch\")\n",
    "plt.ylabel(\"Loss\")\n",
    "plt.title(\"Target model loss per Epoch\")\n",
    "plt.show()"
   ]
  },
  {
   "cell_type": "code",
   "execution_count": 15,
   "metadata": {},
   "outputs": [],
   "source": [
    "def PRINT_ACC(predicted_shadow, predicted_target, ground_truth):\n",
    "    predicted_shadow = torch.flatten(predicted_shadow).numpy()  \n",
    "    predicted_target = torch.flatten(predicted_target).numpy()  \n",
    "    ground_truth = torch.flatten(ground_truth).numpy()  \n",
    "    print(\"Train Accuracy of shadow model is:\",np.sum((predicted_shadow == ground_truth))/len(ground_truth))\n",
    "    print(\"Shadow model's Precision for training dataset is:\", precision_score(ground_truth, predicted_shadow, average='macro'))\n",
    "    print(\"Shadow model's Recall for training dataset is:\",recall_score(ground_truth, predicted_shadow, average='macro'))\n",
    "    print(\"Test Accuracy of target model is:\",np.sum((predicted_target == ground_truth))/len(ground_truth))\n",
    "    print(\"Target model's Precision for testing dataset is:\", precision_score(ground_truth, predicted_target, average='macro'))\n",
    "    print(\"Target model's Recall for testing dataset is:\",recall_score(ground_truth, predicted_target, average='macro'))"
   ]
  },
  {
   "cell_type": "code",
   "execution_count": 18,
   "metadata": {},
   "outputs": [
    {
     "name": "stdout",
     "output_type": "stream",
     "text": [
      "Train Accuracy of shadow model is: 0.9980419930011665\n",
      "Shadow model's Precision for training dataset is: 0.9980450984344256\n",
      "Shadow model's Recall for training dataset is: 0.9980411558029498\n",
      "Test Accuracy of target model is: 0.9894600899850025\n",
      "Target model's Precision for testing dataset is: 0.9893256177470334\n",
      "Target model's Recall for testing dataset is: 0.9894723034309523\n"
     ]
    }
   ],
   "source": [
    "# TRAIN & TEST ACCURACY OF OUR SHADOW & TARGET MODELS\n",
    "\n",
    "for i, data in enumerate(trainloader, 0):\n",
    "    \n",
    "    #first 6000 * 4 examples were trained on shadow model so we get train accuracy of shadow model\n",
    "    # and test accuracy of target model\n",
    "    if i > 6000:\n",
    "        break\n",
    "    images, labels = data\n",
    "    outputs_shadow = shadow(images)\n",
    "    outputs_target = target(images)\n",
    "    if i ==0:\n",
    "        _, Shadow = torch.max(outputs_shadow, 1)\n",
    "        _, Target = torch.max(outputs_target, 1)\n",
    "        predicted_shadow = Shadow\n",
    "        predicted_target = Target\n",
    "        ground_truth = labels\n",
    "    else:\n",
    "        _, Shadow = torch.max(outputs_shadow, 1)\n",
    "        _, Target = torch.max(outputs_target, 1)\n",
    "        predicted_shadow = torch.cat((predicted_shadow, Shadow), 0)\n",
    "        predicted_target = torch.cat((predicted_target, Target), 0)\n",
    "        ground_truth = torch.cat((ground_truth, labels), 0)\n",
    "\n",
    "PRINT_ACC(predicted_shadow, predicted_target, ground_truth)\n"
   ]
  },
  {
   "cell_type": "code",
   "execution_count": 19,
   "metadata": {},
   "outputs": [
    {
     "name": "stdout",
     "output_type": "stream",
     "text": [
      "[1,  2000] loss: 0.671 tensor([[0.4429, 0.5571],\n",
      "        [0.3629, 0.6371],\n",
      "        [0.3143, 0.6857],\n",
      "        [0.2587, 0.7413]], grad_fn=<SoftmaxBackward>)\n",
      "[1,  4000] loss: 0.649 tensor([[0.3175, 0.6825],\n",
      "        [0.2071, 0.7929],\n",
      "        [0.2435, 0.7565],\n",
      "        [0.3266, 0.6734]], grad_fn=<SoftmaxBackward>)\n",
      "[1,  6000] loss: 0.642 tensor([[0.2557, 0.7443],\n",
      "        [0.2146, 0.7854],\n",
      "        [0.2146, 0.7854],\n",
      "        [0.2422, 0.7578]], grad_fn=<SoftmaxBackward>)\n",
      "1 0.2616195712924004\n",
      "[2,  2000] loss: 0.640 tensor([[0.1799, 0.8201],\n",
      "        [0.1979, 0.8021],\n",
      "        [0.2572, 0.7428],\n",
      "        [0.2026, 0.7974]], grad_fn=<SoftmaxBackward>)\n",
      "[2,  4000] loss: 0.638 tensor([[0.1320, 0.8680],\n",
      "        [0.1732, 0.8268],\n",
      "        [0.1967, 0.8033],\n",
      "        [0.2927, 0.7073]], grad_fn=<SoftmaxBackward>)\n",
      "[2,  6000] loss: 0.637 tensor([[0.2201, 0.7799],\n",
      "        [0.1693, 0.8307],\n",
      "        [0.1693, 0.8307],\n",
      "        [0.1654, 0.8346]], grad_fn=<SoftmaxBackward>)\n",
      "2 0.25538438352147735\n",
      "[3,  2000] loss: 0.638 tensor([[0.1304, 0.8696],\n",
      "        [0.2017, 0.7983],\n",
      "        [0.1970, 0.8030],\n",
      "        [0.1676, 0.8324]], grad_fn=<SoftmaxBackward>)\n",
      "[3,  4000] loss: 0.638 tensor([[0.1474, 0.8526],\n",
      "        [0.1112, 0.8888],\n",
      "        [0.1916, 0.8084],\n",
      "        [0.2343, 0.7657]], grad_fn=<SoftmaxBackward>)\n",
      "[3,  6000] loss: 0.636 tensor([[0.1313, 0.8687],\n",
      "        [0.1514, 0.8486],\n",
      "        [0.1514, 0.8486],\n",
      "        [0.2159, 0.7841]], grad_fn=<SoftmaxBackward>)\n",
      "3 0.2548893450419108\n",
      "[4,  2000] loss: 0.638 tensor([[0.1263, 0.8737],\n",
      "        [0.2078, 0.7922],\n",
      "        [0.1320, 0.8680],\n",
      "        [0.1713, 0.8287]], grad_fn=<SoftmaxBackward>)\n",
      "[4,  4000] loss: 0.637 tensor([[0.1459, 0.8541],\n",
      "        [0.1498, 0.8502],\n",
      "        [0.1310, 0.8690],\n",
      "        [0.1936, 0.8064]], grad_fn=<SoftmaxBackward>)\n",
      "[4,  6000] loss: 0.634 tensor([[0.1176, 0.8824],\n",
      "        [0.1693, 0.8307],\n",
      "        [0.1694, 0.8306],\n",
      "        [0.1470, 0.8530]], grad_fn=<SoftmaxBackward>)\n",
      "4 0.2545032713015874\n",
      "[5,  2000] loss: 0.637 tensor([[0.1284, 0.8716],\n",
      "        [0.1802, 0.8198],\n",
      "        [0.1425, 0.8575],\n",
      "        [0.1429, 0.8571]], grad_fn=<SoftmaxBackward>)\n",
      "[5,  4000] loss: 0.637 tensor([[0.1479, 0.8521],\n",
      "        [0.2102, 0.7898],\n",
      "        [0.1928, 0.8072],\n",
      "        [0.0701, 0.9299]], grad_fn=<SoftmaxBackward>)\n",
      "[5,  6000] loss: 0.633 tensor([[0.1288, 0.8712],\n",
      "        [0.1256, 0.8744],\n",
      "        [0.1256, 0.8744],\n",
      "        [0.1897, 0.8103]], grad_fn=<SoftmaxBackward>)\n",
      "5 0.2543007245361805\n",
      "[6,  2000] loss: 0.638 tensor([[0.1881, 0.8119],\n",
      "        [0.1302, 0.8698],\n",
      "        [0.1787, 0.8213],\n",
      "        [0.0839, 0.9161]], grad_fn=<SoftmaxBackward>)\n",
      "[6,  4000] loss: 0.637 tensor([[0.1044, 0.8956],\n",
      "        [0.1694, 0.8306],\n",
      "        [0.2010, 0.7990],\n",
      "        [0.1003, 0.8997]], grad_fn=<SoftmaxBackward>)\n",
      "[6,  6000] loss: 0.632 tensor([[0.1155, 0.8845],\n",
      "        [0.1513, 0.8487],\n",
      "        [0.1513, 0.8487],\n",
      "        [0.1210, 0.8790]], grad_fn=<SoftmaxBackward>)\n",
      "6 0.2542144248366356\n",
      "[7,  2000] loss: 0.638 tensor([[0.1639, 0.8361],\n",
      "        [0.1641, 0.8359],\n",
      "        [0.1711, 0.8289],\n",
      "        [0.0657, 0.9343]], grad_fn=<SoftmaxBackward>)\n",
      "[7,  4000] loss: 0.636 tensor([[0.1465, 0.8535],\n",
      "        [0.1483, 0.8517],\n",
      "        [0.1604, 0.8396],\n",
      "        [0.0869, 0.9131]], grad_fn=<SoftmaxBackward>)\n",
      "[7,  6000] loss: 0.631 tensor([[0.1156, 0.8844],\n",
      "        [0.1361, 0.8639],\n",
      "        [0.1362, 0.8638],\n",
      "        [0.1242, 0.8758]], grad_fn=<SoftmaxBackward>)\n",
      "7 0.2540287765185038\n",
      "[8,  2000] loss: 0.637 tensor([[0.1431, 0.8569],\n",
      "        [0.1433, 0.8567],\n",
      "        [0.1768, 0.8232],\n",
      "        [0.0691, 0.9309]], grad_fn=<SoftmaxBackward>)\n",
      "[8,  4000] loss: 0.637 tensor([[0.1276, 0.8724],\n",
      "        [0.1109, 0.8891],\n",
      "        [0.1616, 0.8384],\n",
      "        [0.1098, 0.8902]], grad_fn=<SoftmaxBackward>)\n",
      "[8,  6000] loss: 0.630 tensor([[0.1250, 0.8750],\n",
      "        [0.1253, 0.8747],\n",
      "        [0.1253, 0.8747],\n",
      "        [0.1111, 0.8889]], grad_fn=<SoftmaxBackward>)\n",
      "8 0.25388302681048713\n",
      "[9,  2000] loss: 0.637 tensor([[0.1796, 0.8204],\n",
      "        [0.0772, 0.9228],\n",
      "        [0.1567, 0.8433],\n",
      "        [0.0943, 0.9057]], grad_fn=<SoftmaxBackward>)\n",
      "[9,  4000] loss: 0.637 tensor([[0.0872, 0.9128],\n",
      "        [0.1290, 0.8710],\n",
      "        [0.0873, 0.9127],\n",
      "        [0.2052, 0.7948]], grad_fn=<SoftmaxBackward>)\n",
      "[9,  6000] loss: 0.631 tensor([[0.1386, 0.8614],\n",
      "        [0.1111, 0.8889],\n",
      "        [0.1111, 0.8889],\n",
      "        [0.1072, 0.8928]], grad_fn=<SoftmaxBackward>)\n",
      "9 0.2540130833486716\n",
      "[10,  2000] loss: 0.638 tensor([[0.1771, 0.8229],\n",
      "        [0.0936, 0.9064],\n",
      "        [0.1281, 0.8719],\n",
      "        [0.0823, 0.9177]], grad_fn=<SoftmaxBackward>)\n",
      "[10,  4000] loss: 0.636 tensor([[0.1360, 0.8640],\n",
      "        [0.0735, 0.9265],\n",
      "        [0.1480, 0.8520],\n",
      "        [0.1174, 0.8826]], grad_fn=<SoftmaxBackward>)\n",
      "[10,  6000] loss: 0.631 tensor([[0.0638, 0.9362],\n",
      "        [0.1486, 0.8514],\n",
      "        [0.1486, 0.8514],\n",
      "        [0.1076, 0.8924]], grad_fn=<SoftmaxBackward>)\n",
      "10 0.2539666265765826\n",
      "[11,  2000] loss: 0.638 tensor([[0.0859, 0.9141],\n",
      "        [0.1318, 0.8682],\n",
      "        [0.1601, 0.8399],\n",
      "        [0.0826, 0.9174]], grad_fn=<SoftmaxBackward>)\n",
      "[11,  4000] loss: 0.636 tensor([[0.1467, 0.8533],\n",
      "        [0.1077, 0.8923],\n",
      "        [0.1146, 0.8854],\n",
      "        [0.0830, 0.9170]], grad_fn=<SoftmaxBackward>)\n",
      "[11,  6000] loss: 0.630 tensor([[0.0751, 0.9249],\n",
      "        [0.1304, 0.8696],\n",
      "        [0.1304, 0.8696],\n",
      "        [0.1031, 0.8969]], grad_fn=<SoftmaxBackward>)\n",
      "11 0.2538657447397709\n",
      "[12,  2000] loss: 0.637 tensor([[0.1270, 0.8730],\n",
      "        [0.0812, 0.9188],\n",
      "        [0.2406, 0.7594],\n",
      "        [0.0484, 0.9516]], grad_fn=<SoftmaxBackward>)\n",
      "[12,  4000] loss: 0.636 tensor([[0.1515, 0.8485],\n",
      "        [0.1218, 0.8782],\n",
      "        [0.1408, 0.8592],\n",
      "        [0.0484, 0.9516]], grad_fn=<SoftmaxBackward>)\n",
      "[12,  6000] loss: 0.630 tensor([[0.0703, 0.9297],\n",
      "        [0.1353, 0.8647],\n",
      "        [0.1353, 0.8647],\n",
      "        [0.0873, 0.9127]], grad_fn=<SoftmaxBackward>)\n",
      "12 0.2536651272873084\n",
      "[13,  2000] loss: 0.637 tensor([[0.1609, 0.8391],\n",
      "        [0.0842, 0.9158],\n",
      "        [0.1593, 0.8407],\n",
      "        [0.0490, 0.9510]], grad_fn=<SoftmaxBackward>)\n",
      "[13,  4000] loss: 0.637 tensor([[0.1229, 0.8771],\n",
      "        [0.0773, 0.9227],\n",
      "        [0.1719, 0.8281],\n",
      "        [0.0672, 0.9328]], grad_fn=<SoftmaxBackward>)\n",
      "[13,  6000] loss: 0.630 tensor([[0.0397, 0.9603],\n",
      "        [0.1404, 0.8596],\n",
      "        [0.1403, 0.8597],\n",
      "        [0.1239, 0.8761]], grad_fn=<SoftmaxBackward>)\n",
      "13 0.253896313560009\n"
     ]
    }
   ],
   "source": [
    "#TRAINING ATTACK MODEL\n",
    "epochs = EPOCHS\n",
    "loss_per_epoch = 0\n",
    "for epoch in range(epochs):\n",
    "    \n",
    "    running_loss = 0\n",
    "    epoch_loss = 0\n",
    "    train_iterator = iter(trainloader)\n",
    "    test_iterator = iter(testloader)\n",
    "\n",
    "    for i in range(6000):\n",
    "        \n",
    "        optimizer3.zero_grad()\n",
    "    \n",
    "        if i%3==0:\n",
    "            #Use images from shadow/target model's test dataset\n",
    "            from_train = torch.zeros((BATCH_SIZE), dtype = torch.int64)\n",
    "            images, labels = next(test_iterator)\n",
    "        else:\n",
    "            #Use images from shadow/target model's train dataset\n",
    "            from_train = torch.ones((BATCH_SIZE), dtype = torch.int64)\n",
    "            images, labels = next(train_iterator)\n",
    "            \n",
    "        posteriors = shadow(images)        \n",
    "        outputs_attack = attack(posteriors)    \n",
    "        loss3 = criterion(outputs_attack, from_train)\n",
    "        loss3.backward()\n",
    "        optimizer3.step()\n",
    "       \n",
    "        epoch_loss += outputs.shape[0] * loss3.item()\n",
    "\n",
    "        # print statistics\n",
    "        running_loss += loss3.item()\n",
    "        if i % 2000 == 1999:    # print every 2000 mini-batches\n",
    "            print('[%d, %5d] loss: %.3f' %\n",
    "                  (epoch + 1, i + 1, running_loss / 2000), outputs_attack)\n",
    "            running_loss = 0.0\n",
    "\n",
    "    # print epoch loss\n",
    "    print(epoch+1, epoch_loss / len(trainset))\n",
    "    if epoch == 0:\n",
    "        loss_per_epoch = np.array(epoch_loss) / len(trainset)\n",
    "    else:\n",
    "        loss_per_epoch = np.append(loss_per_epoch, np.array(epoch_loss) / len(trainset))\n",
    "            \n",
    "#Plot Epoch vs loss\n",
    "x = np.arange(EPOCHS)\n",
    "\n",
    "#SAVE ATTACK MODEL\n",
    "torch.save(attack.state_dict(), \"attack_model_MNIST.pt\")"
   ]
  },
  {
   "cell_type": "code",
   "execution_count": 20,
   "metadata": {},
   "outputs": [
    {
     "data": {
      "image/png": "[encoded data removed]",
      "text/plain": [
       "<Figure size 432x288 with 1 Axes>"
      ]
     },
     "metadata": {
      "needs_background": "light"
     },
     "output_type": "display_data"
    }
   ],
   "source": [
    "plt.plot(x, loss_per_epoch)\n",
    "plt.xlabel(\"Epoch\")\n",
    "plt.ylabel(\"Loss\")\n",
    "plt.title('Attack Model Loss per Epoch')\n",
    "plt.show()"
   ]
  },
  {
   "cell_type": "code",
   "execution_count": 21,
   "metadata": {},
   "outputs": [],
   "source": [
    "def PRINT_ACC_ATTACK(predicted_shadow, predicted_target, ground_truth, Train = True):\n",
    "    predicted_shadow = torch.flatten(predicted_shadow).numpy()\n",
    "    predicted_target = torch.flatten(predicted_target).numpy()\n",
    "    ground_truth = torch.flatten(ground_truth).numpy()  \n",
    "    if Train == True:\n",
    "        print (\"Attack model Statistics using shadow model's Posteriors and training dataset\")\n",
    "        print (classification_report(ground_truth, predicted_shadow))\n",
    "        print (\"Attack model Statistics using target model's Posteriors and testing dataset\")\n",
    "        print (classification_report(ground_truth, predicted_target))\n",
    "        print(\"Train Accuracy of attack model on Shadow Model's Posteriors \", \n",
    "              np.sum((predicted_shadow == ground_truth))/len(ground_truth),\n",
    "              \"Test Accuracy of attack model on Target Model's Posteriors \", \n",
    "              np.sum((predicted_target == ground_truth))/len(ground_truth),\n",
    "              \"Shadow model's Precision for training dataset is:\",\n",
    "              precision_score(ground_truth, predicted_shadow),\n",
    "              \"Shadow model's Recall for training dataset is:\",\n",
    "              recall_score(ground_truth, predicted_shadow))\n",
    "              \n",
    "    else:\n",
    "        print (\"Attack model Statistics using shadow model's Posteriors and testing dataset\")\n",
    "        print (classification_report(ground_truth, predicted_shadow))\n",
    "        print (\"Attack model Statistics using target model's Posteriors and training dataset\")\n",
    "        print (classification_report(ground_truth, predicted_target))\n",
    "        print(\"Test Accuracy of attack model on Shadow Model's Posteriors \", \n",
    "              np.sum((predicted_shadow == ground_truth))/len(ground_truth),\n",
    "              \"Test Accuracy of attack model on Target Model's Posteriors \", \n",
    "              np.sum((predicted_target == ground_truth))/len(ground_truth),\n",
    "              \"Shadow model's Precision for testing dataset is:\",\n",
    "              precision_score(ground_truth, predicted_shadow),\n",
    "              \"Shadow model's Recall for testing dataset is:\",\n",
    "              recall_score(ground_truth, predicted_shadow))"
   ]
  },
  {
   "cell_type": "code",
   "execution_count": 27,
   "metadata": {},
   "outputs": [
    {
     "data": {
      "text/plain": [
       "<All keys matched successfully>"
      ]
     },
     "execution_count": 27,
     "metadata": {},
     "output_type": "execute_result"
    }
   ],
   "source": [
    "attack_model = Net_Attack()\n",
    "attack_model.load_state_dict(torch.load('./attack_model_MNIST.pt'))"
   ]
  },
  {
   "cell_type": "code",
   "execution_count": 28,
   "metadata": {},
   "outputs": [
    {
     "name": "stdout",
     "output_type": "stream",
     "text": [
      "Attack model Statistics using shadow model's Posteriors and training dataset\n",
      "              precision    recall  f1-score   support\n",
      "\n",
      "           0       0.61      0.04      0.07      8000\n",
      "           1       0.67      0.99      0.80     16000\n",
      "\n",
      "    accuracy                           0.67     24000\n",
      "   macro avg       0.64      0.51      0.44     24000\n",
      "weighted avg       0.65      0.67      0.56     24000\n",
      "\n",
      "Attack model Statistics using target model's Posteriors and testing dataset\n",
      "              precision    recall  f1-score   support\n",
      "\n",
      "           0       0.59      0.04      0.07      8000\n",
      "           1       0.67      0.99      0.80     16000\n",
      "\n",
      "    accuracy                           0.67     24000\n",
      "   macro avg       0.63      0.51      0.43     24000\n",
      "weighted avg       0.64      0.67      0.56     24000\n",
      "\n",
      "Train Accuracy of attack model on Shadow Model's Posteriors  0.671375 Test Accuracy of attack model on Target Model's Posteriors  0.67025 Shadow model's Precision for training dataset is: 0.6725949878738885 Shadow model's Recall for training dataset is: 0.988\n"
     ]
    }
   ],
   "source": [
    "# Checking Attack Model Train Accuracy\n",
    "train_iterator = iter(trainloader)\n",
    "test_iterator = iter(testloader)\n",
    "for i in range(6000):\n",
    "\n",
    "    from_train = torch.ones((BATCH_SIZE), dtype = torch.int64)\n",
    "\n",
    "    if i%3==0:\n",
    "            #Use images from shadow/target model's test dataset\n",
    "            from_train = torch.zeros((BATCH_SIZE), dtype = torch.int64)\n",
    "            images, labels = next(test_iterator)\n",
    "    else:\n",
    "        #Use images from shadow/target model's train dataset\n",
    "        from_train = torch.ones((BATCH_SIZE), dtype = torch.int64)\n",
    "        images, labels = next(train_iterator)\n",
    "            \n",
    "\n",
    "    # Finding Train Accuracy of Shadow Model\n",
    "    posteriors_shadow = shadow(images)    \n",
    "    #posteriors_shadow = torch.cat((posteriors_shadow, torch.reshape(labels, (BATCH_SIZE, 1))), 1)\n",
    "    outputs_attack_shadow = attack(posteriors_shadow)\n",
    "    \n",
    "    # Finding Train Accuracy of Target Model\n",
    "    posteriors_target = target(images)   \n",
    "    #posteriors_target = torch.cat((posteriors_target, torch.reshape(labels, (BATCH_SIZE, 1))), 1)\n",
    "    outputs_attack_target = attack(posteriors_target)\n",
    "\n",
    "    \n",
    "    if i ==0:\n",
    "        _, Shadow = torch.max(outputs_attack_shadow, 1)\n",
    "        _, Target = torch.max(outputs_attack_target, 1)\n",
    "\n",
    "        predicted_shadow = Shadow\n",
    "        predicted_target = Target\n",
    "        ground_truth = from_train\n",
    "    else:\n",
    "        _, Shadow = torch.max(outputs_attack_shadow, 1)\n",
    "        _, Target = torch.max(outputs_attack_target, 1)\n",
    "        \n",
    "        predicted_shadow = torch.cat((predicted_shadow, Shadow), 0)\n",
    "        predicted_target = torch.cat((predicted_target, Target), 0)\n",
    "        ground_truth = torch.cat((ground_truth, from_train), 0)\n",
    "        \n",
    "\n",
    "PRINT_ACC_ATTACK(predicted_shadow, predicted_target, ground_truth)"
   ]
  },
  {
   "cell_type": "code",
   "execution_count": 29,
   "metadata": {},
   "outputs": [
    {
     "name": "stdout",
     "output_type": "stream",
     "text": [
      "Attack model Statistics using shadow model's Posteriors and testing dataset\n",
      "              precision    recall  f1-score   support\n",
      "\n",
      "           0       0.57      0.06      0.11      1996\n",
      "           1       0.76      0.99      0.86      6000\n",
      "\n",
      "    accuracy                           0.75      7996\n",
      "   macro avg       0.67      0.52      0.48      7996\n",
      "weighted avg       0.71      0.75      0.67      7996\n",
      "\n",
      "Attack model Statistics using target model's Posteriors and training dataset\n",
      "              precision    recall  f1-score   support\n",
      "\n",
      "           0       0.54      0.06      0.11      1996\n",
      "           1       0.76      0.98      0.86      6000\n",
      "\n",
      "    accuracy                           0.75      7996\n",
      "   macro avg       0.65      0.52      0.48      7996\n",
      "weighted avg       0.70      0.75      0.67      7996\n",
      "\n",
      "Test Accuracy of attack model on Shadow Model's Posteriors  0.7541270635317658 Test Accuracy of attack model on Target Model's Posteriors  0.7525012506253127 Shadow model's Precision for testing dataset is: 0.7589216944801027 Shadow model's Recall for testing dataset is: 0.9853333333333333\n"
     ]
    }
   ],
   "source": [
    "# Checking Attack Model Test Accuracy\n",
    "train_iterator = iter(trainloader)\n",
    "test_iterator = iter(testloader)\n",
    "for i in range(8000):\n",
    "\n",
    "    if i<6000:\n",
    "        if i%3==0:\n",
    "            #Use images from shadow/target model's test dataset\n",
    "            images, labels = next(test_iterator)\n",
    "        else:\n",
    "            #Use images from shadow/target model's train dataset\n",
    "            images, labels = next(train_iterator)\n",
    "        \n",
    "\n",
    "    \n",
    "\n",
    "    # For test we use only the last 1000*4 = 4000 images (1000 from test set of cifar10 and 9000 from trainset of cifar 10) \n",
    "    # both our shadow and target model have not previously seen these images \n",
    "    elif i>6000:\n",
    "        \n",
    "        if i%4==0:\n",
    "            #Use images from shadow/target model's test dataset\n",
    "            from_train = torch.zeros((BATCH_SIZE), dtype = torch.int64)\n",
    "            images, labels = next(test_iterator)\n",
    "        else:\n",
    "            #Use images from shadow/target model's train dataset\n",
    "            from_train = torch.ones((BATCH_SIZE), dtype = torch.int64)\n",
    "            images, labels = next(train_iterator)\n",
    "    \n",
    "        posteriors_shadow = shadow(images)    \n",
    "        #posteriors_shadow = torch.cat((posteriors_shadow, torch.reshape(labels, (BATCH_SIZE, 1))), 1)\n",
    "        outputs_attack_shadow = attack(posteriors_shadow)\n",
    "\n",
    "\n",
    "\n",
    "        posteriors_target = target(images)\n",
    "        #posteriors_target = torch.cat((posteriors_target, torch.reshape(labels, (BATCH_SIZE, 1))), 1)\n",
    "        outputs_attack_target = attack(posteriors_target)\n",
    "\n",
    "        if i ==6001:\n",
    "            _, Shadow = torch.max(outputs_attack_shadow, 1)\n",
    "            _, Target = torch.max(outputs_attack_target, 1)\n",
    "\n",
    "            predicted_shadow = Shadow\n",
    "            predicted_target = Target\n",
    "            ground_truth = from_train\n",
    "        else:\n",
    "            _, Shadow = torch.max(outputs_attack_shadow, 1)\n",
    "            _, Target = torch.max(outputs_attack_target, 1)\n",
    "            predicted_shadow = torch.cat((predicted_shadow, Shadow), 0)\n",
    "            predicted_target = torch.cat((predicted_target, Target), 0)\n",
    "            ground_truth = torch.cat((ground_truth, from_train), 0)\n",
    "\n",
    "PRINT_ACC_ATTACK(predicted_shadow, predicted_target, ground_truth, Train = False)\n"
   ]
  },
  {
   "cell_type": "code",
   "execution_count": null,
   "metadata": {},
   "outputs": [],
   "source": []
  }
 ],
 "metadata": {
  "kernelspec": {
   "display_name": "Python 3",
   "language": "python",
   "name": "python3"
  },
  "language_info": {
   "codemirror_mode": {
    "name": "ipython",
    "version": 3
   },
   "file_extension": ".py",
   "mimetype": "text/x-python",
   "name": "python",
   "nbconvert_exporter": "python",
   "pygments_lexer": "ipython3",
   "version": "3.8.3"
  }
 },
 "nbformat": 4,
 "nbformat_minor": 5
}
